{
 "cells": [
  {
   "cell_type": "code",
   "execution_count": 1,
   "id": "c2218711-31d0-4f79-a9eb-990e51d985f5",
   "metadata": {},
   "outputs": [],
   "source": [
    "# Answer1"
   ]
  },
  {
   "cell_type": "code",
   "execution_count": 2,
   "id": "c0300b1c-d685-4f4c-8ee4-2359f5725ab9",
   "metadata": {},
   "outputs": [
    {
     "data": {
      "text/plain": [
       "' Abstraction allows us to create abstract classes and methods to provide a generalized representation of the objects. Abstraction focuses on hiding complex implementation details and exposing only the essentials information or functionality to the outside world. it helps in creating modular and scalable code by seperating the implementation from the interface.  '"
      ]
     },
     "execution_count": 2,
     "metadata": {},
     "output_type": "execute_result"
    }
   ],
   "source": [
    "\"\"\" Abstraction allows us to create abstract classes and methods to provide a generalized representation of the objects. Abstraction focuses on hiding complex implementation details and exposing only the essentials information or functionality to the outside world. it helps in creating modular and scalable code by seperating the implementation from the interface.  \"\"\""
   ]
  },
  {
   "cell_type": "code",
   "execution_count": 3,
   "id": "352ab112-78b9-487a-914d-18bd850a7c4e",
   "metadata": {},
   "outputs": [],
   "source": [
    "import abc\n",
    "class class_structure:\n",
    "    \n",
    "    @abc.abstractmethod\n",
    "    def class_name(self):\n",
    "        pass\n",
    "    \n",
    "    @abc.abstractmethod\n",
    "    def total_student(self):\n",
    "        pass\n",
    "    \n",
    "    @abc.abstractmethod\n",
    "    def teachers(self):\n",
    "        pass\n",
    "    \n",
    "    @abc.abstractmethod\n",
    "    def study_hours(self):\n",
    "        pass\n",
    "    \n",
    "    @abc.abstractmethod\n",
    "    def free_time(self):\n",
    "        pass\n",
    "    "
   ]
  },
  {
   "cell_type": "code",
   "execution_count": 4,
   "id": "dcae7f3c-6a25-4b46-9fdc-501d0a5ecaee",
   "metadata": {},
   "outputs": [],
   "source": [
    "class eight(class_structure):\n",
    "    \n",
    "    def class_name(self):\n",
    "        print(\"class eight here\")\n",
    "        \n",
    "    def total_student(self):\n",
    "        print(80)"
   ]
  },
  {
   "cell_type": "code",
   "execution_count": 5,
   "id": "f6e822bf-2792-48ac-8aab-6e0a561e582d",
   "metadata": {},
   "outputs": [],
   "source": [
    "class ninth(class_structure):\n",
    "    \n",
    "    def class_name(self):\n",
    "        print(\"class nine here\")\n",
    "        \n",
    "    def total_student(self):\n",
    "        print(95)"
   ]
  },
  {
   "cell_type": "code",
   "execution_count": 6,
   "id": "1d2ef17d-79f2-4d63-8d9c-95d5fc25df75",
   "metadata": {},
   "outputs": [],
   "source": [
    "eight = eight()"
   ]
  },
  {
   "cell_type": "code",
   "execution_count": 7,
   "id": "cf56f95a-86a0-4a83-95cd-48c262fe2a6a",
   "metadata": {},
   "outputs": [],
   "source": [
    "ninth = ninth()"
   ]
  },
  {
   "cell_type": "code",
   "execution_count": 8,
   "id": "5d4dd1f3-8de3-4c17-8553-dabfce0adc5b",
   "metadata": {},
   "outputs": [
    {
     "name": "stdout",
     "output_type": "stream",
     "text": [
      "class nine here\n"
     ]
    }
   ],
   "source": [
    "ninth.class_name()"
   ]
  },
  {
   "cell_type": "code",
   "execution_count": 9,
   "id": "996607eb-489c-49bd-93e4-1504e3b66486",
   "metadata": {},
   "outputs": [
    {
     "name": "stdout",
     "output_type": "stream",
     "text": [
      "class eight here\n"
     ]
    }
   ],
   "source": [
    "eight.class_name()"
   ]
  },
  {
   "cell_type": "code",
   "execution_count": 10,
   "id": "b6fe095b-ee90-4eaa-b0d5-a2dfd3f8afd0",
   "metadata": {},
   "outputs": [],
   "source": [
    "# Answer2"
   ]
  },
  {
   "cell_type": "code",
   "execution_count": 11,
   "id": "ab1e3ff7-939c-493b-975a-f0538b6f2f23",
   "metadata": {},
   "outputs": [
    {
     "data": {
      "text/plain": [
       "\" Encapsulation is the process of bundling data and methods together and restricting access to the internal details of the object. Encapsulation focuses on hiding the internal representation or state of an object and providing controlled way to access and manipulate the object's data. Abstraction is the process of creating abstract classes and methods that provide a generalized representation of objects. Abstraction focuses on hiding the implementation details and exposing only the essential information or functionality of an object.\""
      ]
     },
     "execution_count": 11,
     "metadata": {},
     "output_type": "execute_result"
    }
   ],
   "source": [
    "\"\"\" Encapsulation is the process of bundling data and methods together and restricting access to the internal details of the object. Encapsulation focuses on hiding the internal representation or state of an object and providing controlled way to access and manipulate the object's data. Abstraction is the process of creating abstract classes and methods that provide a generalized representation of objects. Abstraction focuses on hiding the implementation details and exposing only the essential information or functionality of an object.\"\"\""
   ]
  },
  {
   "cell_type": "code",
   "execution_count": 12,
   "id": "1290ffeb-802b-42fc-b13f-eb644f555f59",
   "metadata": {},
   "outputs": [],
   "source": [
    "# Abstraction example\n",
    "import abc\n",
    "class student_details:\n",
    "    \n",
    "    @abc.abstractmethod\n",
    "    def student_name(self):\n",
    "        pass\n",
    "    \n",
    "    @abc.abstractmethod\n",
    "    def student_rollno(self):\n",
    "        pass\n",
    "    \n",
    "    @abc.abstractmethod\n",
    "    def student_result(self):\n",
    "        pass\n",
    "    \n",
    "    @abc.abstractmethod\n",
    "    def student_grade(self):\n",
    "        pass"
   ]
  },
  {
   "cell_type": "code",
   "execution_count": 13,
   "id": "6c052c44-4ad6-462d-877f-7c678dd071e2",
   "metadata": {},
   "outputs": [],
   "source": [
    "class st_data(student_details):\n",
    "    \n",
    "    def student_name(self):\n",
    "        print(\"raghav\")\n",
    "        \n",
    "    def student_result(self):\n",
    "        print(\"pass\")\n",
    "        "
   ]
  },
  {
   "cell_type": "code",
   "execution_count": 14,
   "id": "55c2fa27-cf11-48b5-9cd9-b7a3d19961de",
   "metadata": {},
   "outputs": [],
   "source": [
    "class st_data1(student_details):\n",
    "    \n",
    "    def student_name(self):\n",
    "        print(\"sandeep\")\n",
    "        \n",
    "    def student_result(self):\n",
    "        print(\"fail\")"
   ]
  },
  {
   "cell_type": "code",
   "execution_count": 15,
   "id": "95a60b5d-64ac-4082-952c-41b7f0e4a371",
   "metadata": {},
   "outputs": [],
   "source": [
    "st = st_data()"
   ]
  },
  {
   "cell_type": "code",
   "execution_count": 16,
   "id": "6fb7708b-429a-4a81-a996-9dd6e17eea77",
   "metadata": {},
   "outputs": [],
   "source": [
    "st1 = st_data1()"
   ]
  },
  {
   "cell_type": "code",
   "execution_count": 17,
   "id": "e9cf6265-fb79-45ed-a9ff-ac9b29aec6f6",
   "metadata": {},
   "outputs": [
    {
     "name": "stdout",
     "output_type": "stream",
     "text": [
      "raghav\n"
     ]
    }
   ],
   "source": [
    "st.student_name()"
   ]
  },
  {
   "cell_type": "code",
   "execution_count": 18,
   "id": "41c6fbdc-50bd-49bd-bd6e-aed5f677fcd0",
   "metadata": {},
   "outputs": [],
   "source": [
    "# Encapsulation example\n",
    "class st_details:\n",
    "    \n",
    "    def __init__(self, name, result, school, address):\n",
    "        self.__name = name\n",
    "        self.__result = result\n",
    "        self.__school = school\n",
    "        self.__address = address\n",
    "        \n",
    "    def st_name(self):\n",
    "        return self.__name\n",
    "        \n",
    "    \n",
    "    def st_result(self):\n",
    "        return self.__result"
   ]
  },
  {
   "cell_type": "code",
   "execution_count": 19,
   "id": "4b883d9f-7a96-47df-8004-1a4d3ec533c4",
   "metadata": {},
   "outputs": [],
   "source": [
    "std = st_details(\"kalpana\", \"pass\", \"KPS\", \"jaipur\")"
   ]
  },
  {
   "cell_type": "code",
   "execution_count": 20,
   "id": "f06e7eca-20c8-4f5d-aa3f-078e87046c62",
   "metadata": {},
   "outputs": [
    {
     "data": {
      "text/plain": [
       "'kalpana'"
      ]
     },
     "execution_count": 20,
     "metadata": {},
     "output_type": "execute_result"
    }
   ],
   "source": [
    "std.st_name()"
   ]
  },
  {
   "cell_type": "code",
   "execution_count": 21,
   "id": "67ae3430-b8d6-4921-994a-f95b81fab189",
   "metadata": {},
   "outputs": [
    {
     "data": {
      "text/plain": [
       "'pass'"
      ]
     },
     "execution_count": 21,
     "metadata": {},
     "output_type": "execute_result"
    }
   ],
   "source": [
    "std.st_result()"
   ]
  },
  {
   "cell_type": "code",
   "execution_count": 22,
   "id": "344d0941-cb1e-4710-ae42-ff16724cd9ac",
   "metadata": {},
   "outputs": [],
   "source": [
    "# Answer3"
   ]
  },
  {
   "cell_type": "code",
   "execution_count": 23,
   "id": "293fd9cd-fe6f-4c4c-be5d-3e31b9f4a482",
   "metadata": {},
   "outputs": [
    {
     "data": {
      "text/plain": [
       "' The abc module in python stands for abstrct base classes. It is used to define abstract base classes, which are classes that cannot be instantiated, but can be used as a basis for other classes. these abstract base classes provide a way to establish a common interface and define a set of methods that subclasses must implement. Abstract base classes are used to provide a way to create interfaces, enforce common behavior, and ensure that subclasses implement specific methods. '"
      ]
     },
     "execution_count": 23,
     "metadata": {},
     "output_type": "execute_result"
    }
   ],
   "source": [
    "\"\"\" The abc module in python stands for abstrct base classes. It is used to define abstract base classes, which are classes that cannot be instantiated, but can be used as a basis for other classes. these abstract base classes provide a way to establish a common interface and define a set of methods that subclasses must implement. Abstract base classes are used to provide a way to create interfaces, enforce common behavior, and ensure that subclasses implement specific methods. \"\"\""
   ]
  },
  {
   "cell_type": "code",
   "execution_count": 26,
   "id": "717501ae-c861-4193-ae6f-aa0f182d8537",
   "metadata": {},
   "outputs": [],
   "source": [
    "# Answer4"
   ]
  },
  {
   "cell_type": "code",
   "execution_count": null,
   "id": "397e400a-585a-4fc4-88f0-aadbb50f2a66",
   "metadata": {},
   "outputs": [],
   "source": [
    "\"\"\" Data abstraction can be achieved through creating abstract classes and inheriting them later. \"\"\""
   ]
  },
  {
   "cell_type": "code",
   "execution_count": 24,
   "id": "b4b131e6-6fb1-450e-8973-4c56b47f5aac",
   "metadata": {},
   "outputs": [],
   "source": [
    "# Answer5"
   ]
  },
  {
   "cell_type": "code",
   "execution_count": 25,
   "id": "c42460e4-5ea8-4762-bb65-32a6f182689c",
   "metadata": {},
   "outputs": [
    {
     "data": {
      "text/plain": [
       "' No, we cannot create an instance of an abstract class. Abstarct classes are intended to be used as base classes for other classes and provide a blueprint for common behavior, but they cannot be intantiated on their own.'"
      ]
     },
     "execution_count": 25,
     "metadata": {},
     "output_type": "execute_result"
    }
   ],
   "source": [
    "\"\"\" No, we cannot create an instance of an abstract class. Abstarct classes are intended to be used as base classes for other classes and provide a blueprint for common behavior, but they cannot be intantiated on their own.\"\"\""
   ]
  }
 ],
 "metadata": {
  "kernelspec": {
   "display_name": "Python 3 (ipykernel)",
   "language": "python",
   "name": "python3"
  },
  "language_info": {
   "codemirror_mode": {
    "name": "ipython",
    "version": 3
   },
   "file_extension": ".py",
   "mimetype": "text/x-python",
   "name": "python",
   "nbconvert_exporter": "python",
   "pygments_lexer": "ipython3",
   "version": "3.10.8"
  }
 },
 "nbformat": 4,
 "nbformat_minor": 5
}
